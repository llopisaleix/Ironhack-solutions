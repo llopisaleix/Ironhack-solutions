{
 "cells": [
  {
   "cell_type": "markdown",
   "metadata": {},
   "source": [
    "# API Scavenger Game\n",
    "\n",
    "## Challenge 1: Fork Languages\n",
    "\n",
    "You will find out how many programming languages are used among all the forks created from the main lab repo of your bootcamp."
   ]
  },
  {
   "cell_type": "code",
   "execution_count": null,
   "metadata": {},
   "outputs": [],
   "source": [
    "import requests\n",
    "import pandas as pd \n",
    "import numpy as np \n",
    "import json"
   ]
  },
  {
   "cell_type": "code",
   "execution_count": null,
   "metadata": {},
   "outputs": [],
   "source": [
    "#https://api.github.com/repos/ironhack-datalabs/dataV2-labs/forks?page=1"
   ]
  },
  {
   "cell_type": "code",
   "execution_count": null,
   "metadata": {},
   "outputs": [],
   "source": [
    "#What happens if I change the number of the page?\n",
    "#How can I know the number of json objects returned?\n",
    "\n",
    "username = 'XXX'\n",
    "token = 'XXX'\n",
    "url_base = 'https://api.github.com/repos/'\n",
    "owner = 'ironhack-datalabs/'\n",
    "repo = 'dataV2-labs/'\n",
    "pagenr = 'forks?page='\n",
    "i = 4\n",
    "sublist = []\n",
    "\n",
    "#Building the request\n",
    "response = requests.get(url_base + owner + repo + pagenr + str(i), auth=(username,token))\n",
    "#print(response)\n",
    "response_json = response.json()\n",
    "print(len(response_json))"
   ]
  },
  {
   "cell_type": "markdown",
   "metadata": {},
   "source": [
    "Assuming the main lab repo is ironhack-datalabs/madrid-oct-2018, you will:\n",
    "\n",
    "#### 1. Obtain the full list of forks created from the main lab repo via Github API."
   ]
  },
  {
   "cell_type": "markdown",
   "metadata": {},
   "source": [
    "To list forks, we can use the GET method. As explained in the GitHub API documentation, we need to make the request to: GET /repos/:owner/:repo/forks."
   ]
  },
  {
   "cell_type": "code",
   "execution_count": null,
   "metadata": {},
   "outputs": [],
   "source": [
    "#Breaking down the different parts of the repo address. \n",
    "#pagenr is extracted from the documentation\n",
    "\n",
    "username = 'XXX'\n",
    "token = 'XXX'\n",
    "url_base = 'https://api.github.com/repos/'\n",
    "owner = 'ironhack-datalabs/'\n",
    "repo = 'dataV2-labs/'\n",
    "pagenr = 'forks?page='\n",
    "sublist = []\n",
    "#This is the page number\n",
    "i = 1\n",
    "\n",
    "#Building the request\n",
    "response = requests.get(url_base + owner + repo + pagenr + str(i), auth=(username,token))\n",
    "\n",
    "response_json = response.json()\n",
    "\n",
    "#While there is something in the json object returned, keep increasing the page number\n",
    "while len(response_json)>0:\n",
    "    #Make the request\n",
    "    response = requests.get(url_base + owner + repo + pagenr + str(i), auth=(username,token))\n",
    "    #Print the result to make sure is successful\n",
    "    print(response)\n",
    "    #Assign the returned object to a variable\n",
    "    response_json = response.json()\n",
    "    #Append this variable in my list\n",
    "    sublist.append(response_json)\n",
    "    #Increase the page\n",
    "    i += 1\n",
    "    print(len(response_json))\n",
    "\n",
    "\n",
    "print(len(sublist)) \n",
    "#Convert the list of list of json objects in a single list of json objects\n",
    "flat_list = [item for element in sublist for item in element]\n",
    "print(len(flat_list))"
   ]
  },
  {
   "cell_type": "markdown",
   "metadata": {},
   "source": [
    "#### 2. Loop the JSON response to find out the language attribute of each fork. Use an array to store the language attributes of each fork.\n",
    "Hint: Each language should appear only once in your array.\n",
    "Print the language array. It should be something like: [\"Python\", \"Jupyter Notebook\", \"HTML\"]"
   ]
  },
  {
   "cell_type": "code",
   "execution_count": null,
   "metadata": {},
   "outputs": [],
   "source": [
    "#Convert to a dataframe\n",
    "df_GitAPI = pd.DataFrame(flat_list)\n",
    "#Very useful method to visualize all the range of columns of our dataframe\n",
    "pd.set_option('display.max_columns', 75)\n",
    "#Visualize first rows\n",
    "df_GitAPI.head(3)\n",
    "#Get the unique values from the column language\n",
    "df_GitAPI.language.unique()"
   ]
  },
  {
   "cell_type": "code",
   "execution_count": null,
   "metadata": {},
   "outputs": [],
   "source": []
  },
  {
   "cell_type": "markdown",
   "metadata": {},
   "source": [
    "## Challenge 2: Count Commits\n",
    "Count how many commits were made in the month of october of 2018.\n",
    "#### 1. Obtain all the commits made in October 2018 via API, which is a JSON array that contains multiple commit objects."
   ]
  },
  {
   "cell_type": "code",
   "execution_count": null,
   "metadata": {},
   "outputs": [],
   "source": [
    "#method 1\n",
    "\n",
    "result = requests.get('https://api.github.com/repos/ironhack-datalabs/dataV2-labs/commits?page=1&per_page=100&since=2019-10-01T00:00:00Z&until=2019-10-31T23:59:59Z')\n",
    "result2 = requests.get('https://api.github.com/repos/ironhack-datalabs/dataV2-labs/commits?page=2&per_page=100&since=2019-10-01T00:00:00Z&until=2019-10-31T23:59:59Z')\n",
    "\n",
    "commits =result.json() + result2.json()\n",
    "len(commits)\n",
    "\n"
   ]
  },
  {
   "cell_type": "code",
   "execution_count": null,
   "metadata": {},
   "outputs": [],
   "source": [
    "\n",
    "#Method 2\n",
    "username = 'XXX'\n",
    "token = 'XXX'\n",
    "url_base = 'https://api.github.com/repos/'\n",
    "owner = 'ironhack-datalabs/'\n",
    "repo = 'dataV2-labs/'\n",
    "pagenr = 'commits?page='\n",
    "date='&since=2019-10-01T00:00:00Z&until=2019-10-31T23:59:59Z'\n",
    "sublist_commits = []\n",
    "i = 1\n",
    "\n",
    "response = requests.get(url_base + owner + repo + pagenr+str(i)+date, auth=(username,token))\n",
    "response_json = response.json()\n",
    "\n",
    "while len(response_json)>0:\n",
    "    response = requests.get(url_base + owner + repo + pagenr+str(i)+date, auth=(username,token))\n",
    "    response_json = response.json()\n",
    "    sublist_commits.append(response_json)\n",
    "    i += 1\n",
    "\n",
    "flat_list = [item for element in sublist_commits for item in element]\n"
   ]
  },
  {
   "cell_type": "markdown",
   "metadata": {},
   "source": [
    "#### 2. Count how many commit objects are contained in the array."
   ]
  },
  {
   "cell_type": "code",
   "execution_count": null,
   "metadata": {},
   "outputs": [],
   "source": [
    "print(len(flat_list))"
   ]
  },
  {
   "cell_type": "markdown",
   "metadata": {},
   "source": [
    "## Challenge 3: Hidden Cold Joke\n",
    "\n",
    "Using Python, call Github API to find out the cold joke contained in the 24 secret files in the following repo:\n",
    "\n",
    "https://github.com/ironhack-datalabs/scavenger\n",
    "\n",
    "The filenames of the secret files contain .scavengerhunt and they are scattered in different directories of this repo. The secret files are named from .0001.scavengerhunt to .0024.scavengerhunt. They are scattered randomly throughout this repo. You need to search for these files by calling the Github API, not searching the local files on your computer.\n",
    "\n",
    "#### 1. Find the secret files."
   ]
  },
  {
   "cell_type": "code",
   "execution_count": null,
   "metadata": {},
   "outputs": [],
   "source": [
    "username = 'XXX'\n",
    "token = 'XXX'\n"
   ]
  },
  {
   "cell_type": "code",
   "execution_count": null,
   "metadata": {},
   "outputs": [],
   "source": [
    "#Query done after looking at the documentation. Searching for the specific path name\n",
    "\n",
    "response = requests.get('https://api.github.com/search/code?q=.scavengerhunt in:path+repo:ironhack-datalabs/scavenger', auth=(username,token));\n",
    "search = response.json()\n",
    "search\n"
   ]
  },
  {
   "cell_type": "markdown",
   "metadata": {},
   "source": [
    "\n",
    "#### 2.  Sort the filenames ascendingly."
   ]
  },
  {
   "cell_type": "code",
   "execution_count": null,
   "metadata": {},
   "outputs": [],
   "source": [
    "#Declaring variable from search\n",
    "files = search['items']\n",
    "#Sorting the items by name\n",
    "files = sorted(files, key=lambda file: file['name'])\n",
    "files[0]"
   ]
  },
  {
   "cell_type": "code",
   "execution_count": null,
   "metadata": {},
   "outputs": [],
   "source": [
    "contents_list2=[]\n",
    "contents_list = []\n",
    "headers = {'Accept': 'application/vnd.github.v3.raw', };"
   ]
  },
  {
   "cell_type": "markdown",
   "metadata": {},
   "source": [
    "#### 3. Read the content of each secret files into an array of strings.\n",
    "Since the response is encoded, you will need to send the following information in the header of your request:\n",
    "````python\n",
    "headers = {'Accept': 'application/vnd.github.v3.raw'}\n",
    "````"
   ]
  },
  {
   "cell_type": "code",
   "execution_count": null,
   "metadata": {},
   "outputs": [],
   "source": [
    "# your code here\n",
    "for file in files:\n",
    "    content_path = 'https://api.github.com/repos/ironhack-datalabs/scavenger/contents/{}'.format(file['path'])\n",
    "    response = requests.get(content_path, headers=headers, auth=(username,token))\n",
    "    #contents_list2.append(response.content)\n",
    "    contents_list.append(response.text)\n",
    "contents_list"
   ]
  },
  {
   "cell_type": "markdown",
   "metadata": {},
   "source": [
    "#### 4. Concatenate the strings in the array separating each two with a whitespace."
   ]
  },
  {
   "cell_type": "code",
   "execution_count": null,
   "metadata": {},
   "outputs": [],
   "source": [
    "# your code here\n",
    "clean_contents = [word.strip('\\n') for word in contents_list]\n",
    "joke = \" \".join(clean_contents);"
   ]
  },
  {
   "cell_type": "markdown",
   "metadata": {},
   "source": [
    "#### 5. Print out the joke."
   ]
  },
  {
   "cell_type": "code",
   "execution_count": null,
   "metadata": {},
   "outputs": [],
   "source": [
    "# your code here\n",
    "print(joke)\n"
   ]
  },
  {
   "cell_type": "code",
   "execution_count": null,
   "metadata": {},
   "outputs": [],
   "source": []
  }
 ],
 "metadata": {
  "kernelspec": {
   "display_name": "Python 3",
   "language": "python",
   "name": "python3"
  },
  "language_info": {
   "codemirror_mode": {
    "name": "ipython",
    "version": 3
   },
   "file_extension": ".py",
   "mimetype": "text/x-python",
   "name": "python",
   "nbconvert_exporter": "python",
   "pygments_lexer": "ipython3",
   "version": "3.7.3"
  }
 },
 "nbformat": 4,
 "nbformat_minor": 2
}
