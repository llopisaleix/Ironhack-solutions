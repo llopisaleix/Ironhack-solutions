{
 "cells": [
  {
   "cell_type": "markdown",
   "metadata": {},
   "source": [
    "# StackAPI\n",
    "\n",
    "#### Import the necessary libraries here:"
   ]
  },
  {
   "cell_type": "code",
   "execution_count": 1,
   "metadata": {},
   "outputs": [],
   "source": [
    "# your code here\n",
    "from stackapi import StackAPI\n",
    "SITE = StackAPI('stackoverflow')"
   ]
  },
  {
   "cell_type": "markdown",
   "metadata": {},
   "source": [
    "#### Question 1: Find the questions and answers of last month."
   ]
  },
  {
   "cell_type": "code",
   "execution_count": 10,
   "metadata": {},
   "outputs": [
    {
     "name": "stdout",
     "output_type": "stream",
     "text": [
      "7\n"
     ]
    }
   ],
   "source": [
    "# your code here\n",
    "# Why this strange 'fromdate'? Can we use normal date format?\n",
    "#https://api.stackexchange.com/docs/dates\n",
    "questions = SITE.fetch('questions', fromdate=1585699200, todate=1588291200)\n",
    "answers = SITE.fetch('answers', fromdate=1585699200, todate=1588291200)\n",
    "print(len(questions))\n",
    "# print(answers)\n",
    "#https://api.stackexchange.com/docs/questions"
   ]
  },
  {
   "cell_type": "markdown",
   "metadata": {},
   "source": [
    "#### Question 2: Find the most voted question today with at least a score of 5 and tagged with 'python'. "
   ]
  },
  {
   "cell_type": "code",
   "execution_count": 4,
   "metadata": {},
   "outputs": [
    {
     "data": {
      "text/plain": [
       "{'tags': ['python', 'python-internals'],\n",
       " 'owner': {'reputation': 710,\n",
       "  'user_id': 13313873,\n",
       "  'user_type': 'registered',\n",
       "  'profile_image': 'https://www.gravatar.com/avatar/6aa6b50fa640d12712242fe7ea1f60c7?s=128&d=identicon&r=PG&f=1',\n",
       "  'display_name': 'noob overflow',\n",
       "  'link': 'https://stackoverflow.com/users/13313873/noob-overflow'},\n",
       " 'is_answered': True,\n",
       " 'view_count': 3142,\n",
       " 'accepted_answer_id': 61221502,\n",
       " 'answer_count': 4,\n",
       " 'score': 70,\n",
       " 'last_activity_date': 1587612666,\n",
       " 'creation_date': 1586886039,\n",
       " 'last_edit_date': 1586967663,\n",
       " 'question_id': 61213866,\n",
       " 'content_license': 'CC BY-SA 4.0',\n",
       " 'link': 'https://stackoverflow.com/questions/61213866/why-do-i-get-this-many-iterations-when-adding-to-and-removing-from-a-set-while-i',\n",
       " 'title': 'Why do I get this many iterations when adding to and removing from a set while iterating over it?'}"
      ]
     },
     "execution_count": 4,
     "metadata": {},
     "output_type": "execute_result"
    }
   ],
   "source": [
    "# your code here\n",
    "# Why do we sort by votes and not by 'score'? \n",
    "voted_question = SITE.fetch('questions', fromdate=1585699200, todate=1588291200, min=5, tagged='python', sort='votes')['items']\n",
    "voted_question[0]"
   ]
  },
  {
   "cell_type": "markdown",
   "metadata": {},
   "source": [
    "#### Question 3: Find the answers with id 6784 and 6473."
   ]
  },
  {
   "cell_type": "code",
   "execution_count": 5,
   "metadata": {},
   "outputs": [],
   "source": [
    "# your code here\n",
    "answers = SITE.fetch('answers/{ids}',ids=[6784,6743], filter='withbody')\n"
   ]
  },
  {
   "cell_type": "code",
   "execution_count": 6,
   "metadata": {},
   "outputs": [
    {
     "name": "stdout",
     "output_type": "stream",
     "text": [
      "{'backoff': 0, 'has_more': False, 'page': 1, 'quota_max': 300, 'quota_remaining': 300, 'total': 0, 'items': [{'owner': {'reputation': 28815, 'user_id': 758, 'user_type': 'registered', 'accept_rate': 77, 'profile_image': 'https://www.gravatar.com/avatar/0b4adc19284ed0751844d610555dc6b2?s=128&d=identicon&r=PG', 'display_name': 'Mark Renouf', 'link': 'https://stackoverflow.com/users/758/mark-renouf'}, 'is_accepted': False, 'score': 0, 'last_activity_date': 1218291583, 'creation_date': 1218291583, 'answer_id': 6784, 'question_id': 6778, 'content_license': 'CC BY-SA 2.5', 'body': \"<p>Enabling windowless mode (wmode=) makes embedded flash act and render just like other elements. Without that, it's rendered in a seperate step and just overlaid on the browser's window.</p>\\n\\n<p>Could the flash element be losing focus? Sounds like input focus is moved to the scollbar, then you have to move it back.</p>\\n\\n<p>Also you weren't clear whether the focus issue was only in FF or also in IE.</p>\\n\"}]}\n"
     ]
    }
   ],
   "source": [
    "print(answers)"
   ]
  },
  {
   "cell_type": "code",
   "execution_count": null,
   "metadata": {},
   "outputs": [],
   "source": []
  }
 ],
 "metadata": {
  "kernelspec": {
   "display_name": "Python 3",
   "language": "python",
   "name": "python3"
  },
  "language_info": {
   "codemirror_mode": {
    "name": "ipython",
    "version": 3
   },
   "file_extension": ".py",
   "mimetype": "text/x-python",
   "name": "python",
   "nbconvert_exporter": "python",
   "pygments_lexer": "ipython3",
   "version": "3.7.3"
  }
 },
 "nbformat": 4,
 "nbformat_minor": 2
}
