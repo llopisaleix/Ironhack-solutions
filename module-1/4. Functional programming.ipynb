{
 "cells": [
  {
   "cell_type": "markdown",
   "metadata": {},
   "source": [
    "In the cell below, create a Python function that creates a Bag of Words.\n",
    "\n",
    "Requirements:\n",
    "\n",
    "1. Your function should accept the following parameters:\n",
    "    * `corpus` [REQUIRED] - list of strings.\n",
    "    * `stop_words` [OPTIONAL] - array of stop words. The default value is an empty array.\n",
    "\n",
    "1. Your function should return a Python object that contains the following:\n",
    "    * `bag_of_words` - array of strings of normalized unique words in the corpus.\n",
    "    * `term_freq` - array of the term-frequency vectors."
   ]
  },
  {
   "cell_type": "code",
   "execution_count": 29,
   "metadata": {},
   "outputs": [],
   "source": [
    "# Import required libraries\n",
    "import re\n",
    "# Define function\n",
    "def get_bow_from_docs(corpus, stop_words=[]):\n",
    "    \n",
    "    # In the function, first define the variables you will use such as `corpus`, `bag_of_words`, and `term_freq`.\n",
    "    #Convert corpus to lowercases and remove punctuation.\n",
    "    #Defining variables\n",
    "    corpus_2 =[]\n",
    "    bag_of_words=[]\n",
    "    term_freq = []\n",
    "    #Looping and removing punctuation\n",
    "    for word in corpus:\n",
    "        #substitute anything is not alphanumeric, lower it, put it together and append it in a new list\n",
    "        word = re.sub('\\W', ' ',word)\n",
    "        word= word.lower().split()\n",
    "        corpus_2.append(word)\n",
    "    \n",
    "#     \"\"\"\n",
    "#     Loop `corpus`. Append the individual words in each doc into the `bag_of_words` array. The terms in `bag_of_words` \n",
    "#     should be unique which means before adding each term you need to check if it's already added to the array.\n",
    "#     In addition, check if each term is in the `stop_words` array. Only append the term to `bag_of_words`\n",
    "#     if it is not a stop word.\n",
    "#     \"\"\"\n",
    "\n",
    "    for uline in corpus_2:\n",
    "        for word in uline: \n",
    "            if word not in bag_of_words and word not in stop_words:\n",
    "                bag_of_words.append(word)        \n",
    "#     \"\"\"\n",
    "#     Loop `corpus` again. For each doc string, count the number of occurrences of each term in `bag_of_words`. \n",
    "#     Create an array for each doc's term frequency and append it to `term_freq`.\n",
    "#     \"\"\"\n",
    "    #First we iterate over the list in lowercase and without punctuation\n",
    "    for doc in corpus_2:\n",
    "        #If you do not have clear where we are iterating, then print the line below\n",
    "        #print(\"This is corpus 2: \", corpus_2)\n",
    "        #Creating a list inside the loop because we will need a list of lists as an output for term_freq\n",
    "        doc_list=[]  \n",
    "        #This second iteration is not over doc, nor over corpus_2. We are comparing two different objects.\n",
    "        for subdoc in bag_of_words:\n",
    "            #Here is the comparison to check if each word from bag of words matches with every nested list from corpus_2.\n",
    "            #In this case, the first comparison is ['ironhack', 'is', 'cool'] against bag of words.\n",
    "            #After we just append number 1 if it's true and 0 if it isn't\n",
    "            if subdoc in doc:\n",
    "                doc_list.append(1)\n",
    "            else:\n",
    "                doc_list.append(0)\n",
    "        term_freq.append(doc_list)\n",
    "\n",
    "    # Now return your output as an object\n",
    "    return {\n",
    "        \"bag_of_words\": bag_of_words,\n",
    "        \"term_freq\": term_freq\n",
    "    }\n",
    "    "
   ]
  },
  {
   "cell_type": "markdown",
   "metadata": {},
   "source": [
    "Test your function without stop words. You should see the output like below:\n",
    "\n",
    "```{'bag_of_words': ['ironhack', 'is', 'cool', 'i', 'love', 'am', 'a', 'student', 'at'], 'term_freq': [[1, 1, 1, 0, 0, 0, 0, 0, 0], [1, 0, 0, 1, 1, 0, 0, 0, 0], [1, 0, 0, 1, 0, 1, 1, 1, 1]]}```"
   ]
  },
  {
   "cell_type": "code",
   "execution_count": 30,
   "metadata": {},
   "outputs": [
    {
     "name": "stdout",
     "output_type": "stream",
     "text": [
      "{'bag_of_words': ['ironhack', 'is', 'very', 'cool', 'i', 'love', 'am', 'a', 'student', 'at'], 'term_freq': [[1, 1, 1, 1, 0, 0, 0, 0, 0, 0], [1, 0, 0, 0, 1, 1, 0, 0, 0, 0], [1, 0, 0, 0, 1, 0, 1, 1, 1, 1]]}\n"
     ]
    }
   ],
   "source": [
    "# Define the corpus list\n",
    "a_corpus = ['Ironhack is Cool!', 'I love Ironhack', 'I am a student at Ironhack.']\n",
    "\n",
    "# Obtain BoW from your function\n",
    "bow = get_bow_from_docs(a_corpus)\n",
    "\n",
    "# Print BoW\n",
    "print(bow)"
   ]
  },
  {
   "cell_type": "markdown",
   "metadata": {},
   "source": [
    "If your attempt above is successful, nice work done!\n",
    "\n",
    "Now test your function again with the stop words. In the previous lab we defined the stop words in a large array. In this lab, we'll import the stop words from Scikit-Learn."
   ]
  },
  {
   "cell_type": "code",
   "execution_count": 27,
   "metadata": {},
   "outputs": [],
   "source": [
    "\n",
    "from sklearn.feature_extraction import stop_words\n",
    "#print(type(stop_words.ENGLISH_STOP_WORDS))"
   ]
  },
  {
   "cell_type": "markdown",
   "metadata": {},
   "source": [
    "You should have seen a large list of words that looks like:\n",
    "\n",
    "```frozenset({'across', 'mine', 'cannot', ...})```\n",
    "\n",
    "`frozenset` is a type of Python object that is immutable. In this lab you can use it just like an array (list) without conversion."
   ]
  },
  {
   "cell_type": "markdown",
   "metadata": {},
   "source": [
    "Next, test your function with supplying `stop_words.ENGLISH_STOP_WORDS` as the second parameter."
   ]
  },
  {
   "cell_type": "code",
   "execution_count": 28,
   "metadata": {},
   "outputs": [
    {
     "name": "stdout",
     "output_type": "stream",
     "text": [
      "{'bag_of_words': ['ironhack', 'cool', 'love', 'student'], 'term_freq': [[1, 1, 0, 0], [1, 0, 1, 0], [1, 0, 0, 1]]}\n"
     ]
    }
   ],
   "source": [
    "bow = get_bow_from_docs(a_corpus, stop_words.ENGLISH_STOP_WORDS)\n",
    "\n",
    "print(bow)\n"
   ]
  },
  {
   "cell_type": "markdown",
   "metadata": {},
   "source": [
    "You should have seen:\n",
    "\n",
    "```{'bag_of_words': ['ironhack', 'cool', 'love', 'student'], 'term_freq': [[1, 1, 0, 0], [1, 0, 1, 0], [1, 0, 0, 1]]}```"
   ]
  },
  {
   "cell_type": "code",
   "execution_count": null,
   "metadata": {},
   "outputs": [],
   "source": []
  },
  {
   "cell_type": "code",
   "execution_count": null,
   "metadata": {},
   "outputs": [],
   "source": []
  }
 ],
 "metadata": {
  "kernelspec": {
   "display_name": "Python 3",
   "language": "python",
   "name": "python3"
  },
  "language_info": {
   "codemirror_mode": {
    "name": "ipython",
    "version": 3
   },
   "file_extension": ".py",
   "mimetype": "text/x-python",
   "name": "python",
   "nbconvert_exporter": "python",
   "pygments_lexer": "ipython3",
   "version": "3.7.3"
  }
 },
 "nbformat": 4,
 "nbformat_minor": 2
}
