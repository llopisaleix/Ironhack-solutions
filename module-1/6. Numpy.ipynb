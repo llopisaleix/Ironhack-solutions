{
 "cells": [
  {
   "cell_type": "markdown",
   "metadata": {},
   "source": [
    "# Intrduction to NumPy\n",
    "\n",
    "\n",
    "#### 1. Import NumPy under the name np."
   ]
  },
  {
   "cell_type": "code",
   "execution_count": 1,
   "metadata": {},
   "outputs": [],
   "source": [
    "# your code here\n",
    "import numpy as np"
   ]
  },
  {
   "cell_type": "markdown",
   "metadata": {},
   "source": [
    "#### 2. Print your NumPy version."
   ]
  },
  {
   "cell_type": "code",
   "execution_count": 2,
   "metadata": {},
   "outputs": [
    {
     "name": "stdout",
     "output_type": "stream",
     "text": [
      "1.18.1\n"
     ]
    }
   ],
   "source": [
    "# your code here\n",
    "print(np.version.version)"
   ]
  },
  {
   "cell_type": "markdown",
   "metadata": {},
   "source": [
    "#### 3. Generate a 2x3x5 3-dimensional array with random values. Assign the array to variable *a*.\n",
    "**Challenge**: there are at least three easy ways that use numpy to generate random arrays. How many ways can you find?"
   ]
  },
  {
   "cell_type": "code",
   "execution_count": 3,
   "metadata": {},
   "outputs": [
    {
     "name": "stdout",
     "output_type": "stream",
     "text": [
      "[[[0.48665263 0.77639973 0.82297244 0.80289562 0.39154134]\n",
      "  [0.61270894 0.07221598 0.11050555 0.3739281  0.83556169]\n",
      "  [0.73029076 0.26137065 0.5205508  0.2700427  0.55065628]]\n",
      "\n",
      " [[0.40532696 0.03564042 0.0625924  0.36582054 0.10557632]\n",
      "  [0.29209127 0.38062088 0.99128342 0.17705913 0.22924277]\n",
      "  [0.50115711 0.64984074 0.9447035  0.84200425 0.82533227]]]\n"
     ]
    }
   ],
   "source": [
    "# Method 1\n",
    "a = np.random.random((2,3,5))\n",
    "print(a)"
   ]
  },
  {
   "cell_type": "code",
   "execution_count": 4,
   "metadata": {},
   "outputs": [
    {
     "name": "stdout",
     "output_type": "stream",
     "text": [
      "[[[-0.96600111  0.86216008 -1.43691036  0.97180935  1.48090876]\n",
      "  [-0.67483596 -1.09599379 -0.2372431  -1.68690941 -0.60339345]\n",
      "  [-0.27008625  0.45796931 -0.69739353  0.522252   -0.57599395]]\n",
      "\n",
      " [[ 0.21108696 -1.06182609  0.38781289 -1.28689277 -0.39581398]\n",
      "  [ 0.7505111  -1.4324738   0.45599316 -0.59511423  0.31911726]\n",
      "  [-0.32577019 -1.17173878  0.03581091 -2.70933872 -1.19875471]]]\n"
     ]
    }
   ],
   "source": [
    "# Method 2\n",
    "a = np.random.normal(0, 1, (2, 3,5))\n",
    "print(a)"
   ]
  },
  {
   "cell_type": "code",
   "execution_count": 5,
   "metadata": {},
   "outputs": [
    {
     "name": "stdout",
     "output_type": "stream",
     "text": [
      "[[[0.6751901  0.59624045 0.89409334 0.92775751 0.60909397]\n",
      "  [0.52118948 0.73668909 0.22331096 0.20383946 0.09468782]\n",
      "  [0.85079569 0.91491755 0.49829978 0.44031111 0.73894819]]\n",
      "\n",
      " [[0.12992923 0.48415182 0.14331213 0.31256271 0.65605784]\n",
      "  [0.49579658 0.18819791 0.6852389  0.99198818 0.40330195]\n",
      "  [0.23768025 0.68234356 0.6357743  0.46469538 0.34378594]]]\n"
     ]
    }
   ],
   "source": [
    "# Method 3\n",
    "a = np.random.rand(2,3,5)\n",
    "print(a)"
   ]
  },
  {
   "cell_type": "markdown",
   "metadata": {},
   "source": [
    "#### 4. Print *a*.\n"
   ]
  },
  {
   "cell_type": "code",
   "execution_count": 6,
   "metadata": {},
   "outputs": [
    {
     "name": "stdout",
     "output_type": "stream",
     "text": [
      "[[[0.6751901  0.59624045 0.89409334 0.92775751 0.60909397]\n",
      "  [0.52118948 0.73668909 0.22331096 0.20383946 0.09468782]\n",
      "  [0.85079569 0.91491755 0.49829978 0.44031111 0.73894819]]\n",
      "\n",
      " [[0.12992923 0.48415182 0.14331213 0.31256271 0.65605784]\n",
      "  [0.49579658 0.18819791 0.6852389  0.99198818 0.40330195]\n",
      "  [0.23768025 0.68234356 0.6357743  0.46469538 0.34378594]]]\n"
     ]
    }
   ],
   "source": [
    "# your code here\n",
    "print(a)"
   ]
  },
  {
   "cell_type": "markdown",
   "metadata": {},
   "source": [
    "#### 5. Create a 5x2x3 3-dimensional array with all values equaling 1. Assign the array to variable *b*."
   ]
  },
  {
   "cell_type": "code",
   "execution_count": 7,
   "metadata": {},
   "outputs": [],
   "source": [
    "# your code here\n",
    "b = np.ones((5,2,3))"
   ]
  },
  {
   "cell_type": "markdown",
   "metadata": {},
   "source": [
    "#### 6. Print *b*.\n"
   ]
  },
  {
   "cell_type": "code",
   "execution_count": 8,
   "metadata": {},
   "outputs": [
    {
     "name": "stdout",
     "output_type": "stream",
     "text": [
      "[[[1. 1. 1.]\n",
      "  [1. 1. 1.]]\n",
      "\n",
      " [[1. 1. 1.]\n",
      "  [1. 1. 1.]]\n",
      "\n",
      " [[1. 1. 1.]\n",
      "  [1. 1. 1.]]\n",
      "\n",
      " [[1. 1. 1.]\n",
      "  [1. 1. 1.]]\n",
      "\n",
      " [[1. 1. 1.]\n",
      "  [1. 1. 1.]]]\n"
     ]
    }
   ],
   "source": [
    "# your code here\n",
    "print(b)"
   ]
  },
  {
   "cell_type": "markdown",
   "metadata": {},
   "source": [
    "#### 7. Do *a* and *b* have the same size? How do you prove that in Python code?"
   ]
  },
  {
   "cell_type": "code",
   "execution_count": 9,
   "metadata": {},
   "outputs": [
    {
     "name": "stdout",
     "output_type": "stream",
     "text": [
      "a and b have the same size: True\n"
     ]
    }
   ],
   "source": [
    "# your code here\n",
    "print(\"a and b have the same size:\", a.size == b.size)"
   ]
  },
  {
   "cell_type": "markdown",
   "metadata": {},
   "source": [
    "#### 8. Are you able to add *a* and *b*? Why or why not?\n"
   ]
  },
  {
   "cell_type": "code",
   "execution_count": 10,
   "metadata": {},
   "outputs": [
    {
     "ename": "ValueError",
     "evalue": "operands could not be broadcast together with shapes (2,3,5) (5,2,3) ",
     "output_type": "error",
     "traceback": [
      "\u001b[1;31m---------------------------------------------------------------------------\u001b[0m",
      "\u001b[1;31mValueError\u001b[0m                                Traceback (most recent call last)",
      "\u001b[1;32m<ipython-input-10-c5c230192db0>\u001b[0m in \u001b[0;36m<module>\u001b[1;34m\u001b[0m\n\u001b[0;32m      1\u001b[0m \u001b[1;31m# your answer here\u001b[0m\u001b[1;33m\u001b[0m\u001b[1;33m\u001b[0m\u001b[1;33m\u001b[0m\u001b[0m\n\u001b[1;32m----> 2\u001b[1;33m \u001b[0madd_ab\u001b[0m \u001b[1;33m=\u001b[0m \u001b[0mnp\u001b[0m\u001b[1;33m.\u001b[0m\u001b[0madd\u001b[0m\u001b[1;33m(\u001b[0m\u001b[0ma\u001b[0m\u001b[1;33m,\u001b[0m\u001b[0mb\u001b[0m\u001b[1;33m)\u001b[0m\u001b[1;33m\u001b[0m\u001b[1;33m\u001b[0m\u001b[0m\n\u001b[0m\u001b[0;32m      3\u001b[0m \u001b[0mprint\u001b[0m\u001b[1;33m(\u001b[0m\u001b[1;34m\"No. Because shape of both arrays is different\"\u001b[0m\u001b[1;33m)\u001b[0m\u001b[1;33m\u001b[0m\u001b[1;33m\u001b[0m\u001b[0m\n",
      "\u001b[1;31mValueError\u001b[0m: operands could not be broadcast together with shapes (2,3,5) (5,2,3) "
     ]
    }
   ],
   "source": [
    "# your answer here\n",
    "add_ab = np.add(a,b)\n",
    "print(\"No. Because shape of both arrays is different\")"
   ]
  },
  {
   "cell_type": "code",
   "execution_count": null,
   "metadata": {},
   "outputs": [],
   "source": [
    "\n"
   ]
  },
  {
   "cell_type": "code",
   "execution_count": null,
   "metadata": {},
   "outputs": [],
   "source": [
    "\n"
   ]
  },
  {
   "cell_type": "markdown",
   "metadata": {},
   "source": [
    "#### 9. Transpose *b* so that it has the same structure of *a* (i.e. become a 2x3x5 array). Assign the transposed array to variable *c*."
   ]
  },
  {
   "cell_type": "code",
   "execution_count": 11,
   "metadata": {},
   "outputs": [
    {
     "name": "stdout",
     "output_type": "stream",
     "text": [
      "A Shape: (2, 3, 5)\n",
      "B Shape: (5, 2, 3)\n",
      "Matrix d(Method 1):\n",
      " [[[1. 1. 1. 1. 1.]\n",
      "  [1. 1. 1. 1. 1.]\n",
      "  [1. 1. 1. 1. 1.]]\n",
      "\n",
      " [[1. 1. 1. 1. 1.]\n",
      "  [1. 1. 1. 1. 1.]\n",
      "  [1. 1. 1. 1. 1.]]]\n",
      "Matrix c(Method 2:)\n",
      " [[[1. 1. 1. 1. 1.]\n",
      "  [1. 1. 1. 1. 1.]\n",
      "  [1. 1. 1. 1. 1.]]\n",
      "\n",
      " [[1. 1. 1. 1. 1.]\n",
      "  [1. 1. 1. 1. 1.]\n",
      "  [1. 1. 1. 1. 1.]]]\n"
     ]
    }
   ],
   "source": [
    "# your code here\n",
    "print(\"A Shape:\", a.shape)\n",
    "print(\"B Shape:\", b.shape)\n",
    "#Roos solution \n",
    "d = b.reshape(2,3,5)\n",
    "print(\"Matrix d(Method 1):\\n\", d)\n",
    "#Proposed solution\n",
    "c = np.reshape(b,(2,3,5))\n",
    "\n",
    "print(\"Matrix c(Method 2:)\\n\", c)"
   ]
  },
  {
   "cell_type": "markdown",
   "metadata": {},
   "source": [
    "#### 10. Try to add *a* and *c*. Now it should work. Assign the sum to variable *d*. But why does it work now?"
   ]
  },
  {
   "cell_type": "code",
   "execution_count": 12,
   "metadata": {},
   "outputs": [
    {
     "name": "stdout",
     "output_type": "stream",
     "text": [
      "Now it works because a and c have the same shape\n",
      "[[[1.6751901  1.59624045 1.89409334 1.92775751 1.60909397]\n",
      "  [1.52118948 1.73668909 1.22331096 1.20383946 1.09468782]\n",
      "  [1.85079569 1.91491755 1.49829978 1.44031111 1.73894819]]\n",
      "\n",
      " [[1.12992923 1.48415182 1.14331213 1.31256271 1.65605784]\n",
      "  [1.49579658 1.18819791 1.6852389  1.99198818 1.40330195]\n",
      "  [1.23768025 1.68234356 1.6357743  1.46469538 1.34378594]]]\n"
     ]
    }
   ],
   "source": [
    "# your code/answer here\n",
    "d = np.add(a,c)\n",
    "print(\"Now it works because a and c have the same shape\")\n",
    "print(d)"
   ]
  },
  {
   "cell_type": "markdown",
   "metadata": {},
   "source": [
    "#### 11. Print *a* and *d*. Notice the difference and relation of the two array in terms of the values? Explain."
   ]
  },
  {
   "cell_type": "code",
   "execution_count": 13,
   "metadata": {},
   "outputs": [
    {
     "name": "stdout",
     "output_type": "stream",
     "text": [
      "[[[0.6751901  0.59624045 0.89409334 0.92775751 0.60909397]\n",
      "  [0.52118948 0.73668909 0.22331096 0.20383946 0.09468782]\n",
      "  [0.85079569 0.91491755 0.49829978 0.44031111 0.73894819]]\n",
      "\n",
      " [[0.12992923 0.48415182 0.14331213 0.31256271 0.65605784]\n",
      "  [0.49579658 0.18819791 0.6852389  0.99198818 0.40330195]\n",
      "  [0.23768025 0.68234356 0.6357743  0.46469538 0.34378594]]]\n",
      "[[[1.6751901  1.59624045 1.89409334 1.92775751 1.60909397]\n",
      "  [1.52118948 1.73668909 1.22331096 1.20383946 1.09468782]\n",
      "  [1.85079569 1.91491755 1.49829978 1.44031111 1.73894819]]\n",
      "\n",
      " [[1.12992923 1.48415182 1.14331213 1.31256271 1.65605784]\n",
      "  [1.49579658 1.18819791 1.6852389  1.99198818 1.40330195]\n",
      "  [1.23768025 1.68234356 1.6357743  1.46469538 1.34378594]]]\n",
      "All the values are summed. Value in position 0,0,0 in a is added to the value in the same position on array d\n"
     ]
    }
   ],
   "source": [
    "# your code/answer here\n",
    "print(a)\n",
    "print(d)\n",
    "print(\"All the values are summed. Value in position 0,0,0 in a is added to the value in the same position on array d\")"
   ]
  },
  {
   "cell_type": "markdown",
   "metadata": {},
   "source": [
    "#### 12. Multiply *a* and *c*. Assign the result to *e*."
   ]
  },
  {
   "cell_type": "code",
   "execution_count": 14,
   "metadata": {},
   "outputs": [
    {
     "name": "stdout",
     "output_type": "stream",
     "text": [
      "[[[0.6751901  0.59624045 0.89409334 0.92775751 0.60909397]\n",
      "  [0.52118948 0.73668909 0.22331096 0.20383946 0.09468782]\n",
      "  [0.85079569 0.91491755 0.49829978 0.44031111 0.73894819]]\n",
      "\n",
      " [[0.12992923 0.48415182 0.14331213 0.31256271 0.65605784]\n",
      "  [0.49579658 0.18819791 0.6852389  0.99198818 0.40330195]\n",
      "  [0.23768025 0.68234356 0.6357743  0.46469538 0.34378594]]]\n"
     ]
    }
   ],
   "source": [
    "# your code here\n",
    "e = np.multiply(a,c)\n",
    "print(e)"
   ]
  },
  {
   "cell_type": "markdown",
   "metadata": {},
   "source": [
    "#### 13. Does *e* equal to *a*? Why or why not?\n"
   ]
  },
  {
   "cell_type": "code",
   "execution_count": 15,
   "metadata": {},
   "outputs": [
    {
     "name": "stdout",
     "output_type": "stream",
     "text": [
      "[[[0.6751901  0.59624045 0.89409334 0.92775751 0.60909397]\n",
      "  [0.52118948 0.73668909 0.22331096 0.20383946 0.09468782]\n",
      "  [0.85079569 0.91491755 0.49829978 0.44031111 0.73894819]]\n",
      "\n",
      " [[0.12992923 0.48415182 0.14331213 0.31256271 0.65605784]\n",
      "  [0.49579658 0.18819791 0.6852389  0.99198818 0.40330195]\n",
      "  [0.23768025 0.68234356 0.6357743  0.46469538 0.34378594]]]\n",
      "[[[0.6751901  0.59624045 0.89409334 0.92775751 0.60909397]\n",
      "  [0.52118948 0.73668909 0.22331096 0.20383946 0.09468782]\n",
      "  [0.85079569 0.91491755 0.49829978 0.44031111 0.73894819]]\n",
      "\n",
      " [[0.12992923 0.48415182 0.14331213 0.31256271 0.65605784]\n",
      "  [0.49579658 0.18819791 0.6852389  0.99198818 0.40330195]\n",
      "  [0.23768025 0.68234356 0.6357743  0.46469538 0.34378594]]]\n",
      "They are both equal, because all the values of array c are 1, and since they are being multiplied by the element in the same postion (on array a) it will generate the same result\n"
     ]
    }
   ],
   "source": [
    "# your code/answer here\n",
    "print(e)\n",
    "print(a)\n",
    "print(\"They are both equal, because all the values of array c are 1, and since they are being multiplied by the element in the same postion (on array a) it will generate the same result\")"
   ]
  },
  {
   "cell_type": "markdown",
   "metadata": {},
   "source": [
    "#### 14. Identify the max, min, and mean values in *d*. Assign those values to variables *d_max*, *d_min* and *d_mean*."
   ]
  },
  {
   "cell_type": "code",
   "execution_count": 16,
   "metadata": {},
   "outputs": [
    {
     "name": "stdout",
     "output_type": "stream",
     "text": [
      "Max: 1.9919881765234984\n",
      "Min: 1.0946878199738381\n",
      "Mean: 1.526006039177972\n"
     ]
    }
   ],
   "source": [
    "# your code here\n",
    "d_max = np.max(d)\n",
    "d_min = np.min(d)\n",
    "d_mean = np.mean(d)\n",
    "print(\"Max:\",d_max)\n",
    "print(\"Min:\",d_min)\n",
    "print(\"Mean:\",d_mean)"
   ]
  },
  {
   "cell_type": "markdown",
   "metadata": {},
   "source": [
    "#### 15. Now we want to label the values in *d*. First create an empty array *f* with the same shape (i.e. 2x3x5) as *d* using `np.empty`.\n"
   ]
  },
  {
   "cell_type": "code",
   "execution_count": 17,
   "metadata": {},
   "outputs": [
    {
     "name": "stdout",
     "output_type": "stream",
     "text": [
      "[[[0.6751901  0.59624045 0.89409334 0.92775751 0.60909397]\n",
      "  [0.52118948 0.73668909 0.22331096 0.20383946 0.09468782]\n",
      "  [0.85079569 0.91491755 0.49829978 0.44031111 0.73894819]]\n",
      "\n",
      " [[0.12992923 0.48415182 0.14331213 0.31256271 0.65605784]\n",
      "  [0.49579658 0.18819791 0.6852389  0.99198818 0.40330195]\n",
      "  [0.23768025 0.68234356 0.6357743  0.46469538 0.34378594]]]\n"
     ]
    }
   ],
   "source": [
    "# your code here\n",
    "f = np.empty((2,3,5))\n",
    "print(f)"
   ]
  },
  {
   "cell_type": "markdown",
   "metadata": {},
   "source": [
    "#### 16. Populate the values in *f*. \n",
    "\n",
    "For each value in *d*, if it's larger than *d_min* but smaller than *d_mean*, assign 25 to the corresponding value in *f*. If a value in *d* is larger than *d_mean* but smaller than *d_max*, assign 75 to the corresponding value in *f*. If a value equals to *d_mean*, assign 50 to the corresponding value in *f*. Assign 0 to the corresponding value(s) in *f* for *d_min* in *d*. Assign 100 to the corresponding value(s) in *f* for *d_max* in *d*. In the end, f should have only the following values: 0, 25, 50, 75, and 100.\n",
    "\n",
    "**Note**: you don't have to use Numpy in this question."
   ]
  },
  {
   "cell_type": "code",
   "execution_count": 33,
   "metadata": {},
   "outputs": [
    {
     "name": "stdout",
     "output_type": "stream",
     "text": [
      "First method with repr:\n",
      "*2 array([[[ 75.,  75.,  75.,  75.,  75.],\n",
      "        [ 25.,  75.,  25.,  25.,   0.],\n",
      "        [ 75.,  75.,  25.,  25.,  75.]],\n",
      "\n",
      "       [[ 25.,  25.,  25.,  25.,  75.],\n",
      "        [ 25.,  25.,  75., 100.,  25.],\n",
      "        [ 25.,  75.,  75.,  25.,  25.]]])\n",
      "[[[ 75., 75., 75., 75., 75.],\n",
      "  [ 25., 75., 25., 25.,  0.],\n",
      "  [ 75., 75., 25., 25., 75.]],\n",
      "\n",
      " [[ 25., 25., 25., 25., 75.],\n",
      "  [ 25., 25., 75.,100., 25.],\n",
      "  [ 25., 75., 75., 25., 25.]]]\n"
     ]
    }
   ],
   "source": [
    "i = 0\n",
    "j = 0\n",
    "k = 0\n",
    "\n",
    "for i in range(2):\n",
    "    for j in range(3):\n",
    "        for k in range(5):\n",
    "            if d[i][j][k] > d_min and d[i][j][k] < d_mean:\n",
    "                f[i][j][k] = 25\n",
    "            elif d[i][j][k] > d_mean and d[i][j][k] < d_max:\n",
    "                f[i][j][k] = 75\n",
    "            elif d[i][j][k] == d_mean:\n",
    "                f[i][j][k] = 50\n",
    "            elif d[i][j][k] == d_max:\n",
    "                f[i][j][k] = 100\n",
    "            else:\n",
    "                f[i][j][k] = 0\n",
    "\n",
    "\n",
    "print(\"First method with repr:\\n\", repr(f))\n",
    "print(np.array2string(f, separator = ','))"
   ]
  },
  {
   "cell_type": "markdown",
   "metadata": {},
   "source": [
    "#### 17. Print *d* and *f*. Do you have your expected *f*?\n",
    "For instance, if your *d* is:\n",
    "```python\n",
    "[[[1.85836099, 1.67064465, 1.62576044, 1.40243961, 1.88454931],\n",
    "[1.75354326, 1.69403643, 1.36729252, 1.61415071, 1.12104981],\n",
    "[1.72201435, 1.1862918 , 1.87078449, 1.7726778 , 1.88180042]],\n",
    "[[1.44747908, 1.31673383, 1.02000951, 1.52218947, 1.97066381],\n",
    "[1.79129243, 1.74983003, 1.96028037, 1.85166831, 1.65450881],\n",
    "[1.18068344, 1.9587381 , 1.00656599, 1.93402165, 1.73514584]]]\n",
    "```\n",
    "Your *f* should be:\n",
    "```python\n",
    "[[[ 75.,  75.,  75.,  25.,  75.],\n",
    "[ 75.,  75.,  25.,  25.,  25.],\n",
    "[ 75.,  25.,  75.,  75.,  75.]],\n",
    "[[ 25.,  25.,  25.,  25., 100.],\n",
    "[ 75.,  75.,  75.,  75.,  75.],\n",
    "[ 25.,  75.,   0.,  75.,  75.]]]\n",
    "```"
   ]
  },
  {
   "cell_type": "code",
   "execution_count": 19,
   "metadata": {},
   "outputs": [
    {
     "name": "stdout",
     "output_type": "stream",
     "text": [
      "[[[1.54292985 1.37845735 1.48490825 1.79860375 1.53958055]\n",
      "  [1.81766223 1.97900778 1.91586377 1.36545863 1.31356043]\n",
      "  [1.96081178 1.60974734 1.8467576  1.38116329 1.15761785]]\n",
      "\n",
      " [[1.62981903 1.54161796 1.06948954 1.0111607  1.87088463]\n",
      "  [1.93672249 1.84596256 1.07585182 1.77436875 1.30599509]\n",
      "  [1.56269808 1.79175948 1.2593903  1.35484589 1.61725983]]]\n",
      "[[[ 25.  25.  25.  75.  25.]\n",
      "  [ 75. 100.  75.  25.  25.]\n",
      "  [ 75.  75.  75.  25.  25.]]\n",
      "\n",
      " [[ 75.  25.  25.   0.  75.]\n",
      "  [ 75.  75.  25.  75.  25.]\n",
      "  [ 75.  75.  25.  25.  75.]]]\n"
     ]
    }
   ],
   "source": [
    "# your code here\n",
    "print(d)\n",
    "print(f)"
   ]
  },
  {
   "cell_type": "markdown",
   "metadata": {},
   "source": [
    "#### 18. Bonus question: instead of using numbers (i.e. 0, 25, 50, 75, and 100), use string values  (\"A\", \"B\", \"C\", \"D\", and \"E\") to label the array elements. For the example above, the expected result is:\n",
    "\n",
    "```python\n",
    "[[[ 'D',  'D',  'D',  'B',  'D'],\n",
    "[ 'D',  'D',  'B',  'B',  'B'],\n",
    "[ 'D',  'B',  'D',  'D',  'D']],\n",
    "[[ 'B',  'B',  'B',  'B',  'E'],\n",
    "[ 'D',  'D',  'D',  'D',  'D'],\n",
    "[ 'B',  'D',   'A',  'D', 'D']]]\n",
    "```\n",
    "**Note**: you don't have to use Numpy in this question."
   ]
  },
  {
   "cell_type": "code",
   "execution_count": 21,
   "metadata": {},
   "outputs": [],
   "source": [
    "# your code here\n",
    "f = np.array(f, dtype = 'object')\n",
    "f[f == 0] = 'A'\n",
    "f[f == 25] = 'B'\n",
    "f[f == 50] = 'C'\n",
    "f[f == 75] = 'D'\n",
    "f[f == 100] = 'E'"
   ]
  },
  {
   "cell_type": "code",
   "execution_count": 22,
   "metadata": {},
   "outputs": [
    {
     "name": "stdout",
     "output_type": "stream",
     "text": [
      "[[['25.0' '25.0' '25.0' '75.0' '25.0']\n",
      "  ['75.0' '100.0' '75.0' '25.0' '25.0']\n",
      "  ['75.0' '75.0' '75.0' '25.0' '25.0']]\n",
      "\n",
      " [['75.0' '25.0' '25.0' '0.0' '75.0']\n",
      "  ['75.0' '75.0' '25.0' '75.0' '25.0']\n",
      "  ['75.0' '75.0' '25.0' '25.0' '75.0']]]\n"
     ]
    }
   ],
   "source": [
    "print(f)"
   ]
  }
 ],
 "metadata": {
  "kernelspec": {
   "display_name": "Python 3",
   "language": "python",
   "name": "python3"
  },
  "language_info": {
   "codemirror_mode": {
    "name": "ipython",
    "version": 3
   },
   "file_extension": ".py",
   "mimetype": "text/x-python",
   "name": "python",
   "nbconvert_exporter": "python",
   "pygments_lexer": "ipython3",
   "version": "3.7.3"
  }
 },
 "nbformat": 4,
 "nbformat_minor": 2
}
