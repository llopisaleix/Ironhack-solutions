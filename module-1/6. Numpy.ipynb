{
 "cells": [
  {
   "cell_type": "markdown",
   "metadata": {},
   "source": [
    "# Intrduction to NumPy\n",
    "\n",
    "\n",
    "#### 1. Import NumPy under the name np."
   ]
  },
  {
   "cell_type": "code",
   "execution_count": 1,
   "metadata": {},
   "outputs": [],
   "source": [
    "# your code here\n",
    "import numpy as np"
   ]
  },
  {
   "cell_type": "markdown",
   "metadata": {},
   "source": [
    "#### 2. Print your NumPy version."
   ]
  },
  {
   "cell_type": "code",
   "execution_count": 2,
   "metadata": {},
   "outputs": [
    {
     "name": "stdout",
     "output_type": "stream",
     "text": [
      "1.18.1\n"
     ]
    }
   ],
   "source": [
    "# your code here\n",
    "print(np.version.version)"
   ]
  },
  {
   "cell_type": "markdown",
   "metadata": {},
   "source": [
    "#### 3. Generate a 2x3x5 3-dimensional array with random values. Assign the array to variable *a*.\n",
    "**Challenge**: there are at least three easy ways that use numpy to generate random arrays. How many ways can you find?"
   ]
  },
  {
   "cell_type": "code",
   "execution_count": 3,
   "metadata": {},
   "outputs": [
    {
     "name": "stdout",
     "output_type": "stream",
     "text": [
      "[[[0.79757115 0.28006589 0.38317793 0.59290154 0.63175945]\n",
      "  [0.79268703 0.72057559 0.05055521 0.32118863 0.31568354]\n",
      "  [0.14502022 0.26972181 0.40624532 0.78599856 0.83189655]]\n",
      "\n",
      " [[0.91023981 0.17247734 0.62711419 0.14834986 0.80007005]\n",
      "  [0.0174509  0.89381849 0.21904498 0.01467421 0.27692266]\n",
      "  [0.77614889 0.78773257 0.68464011 0.85636607 0.37921643]]]\n"
     ]
    }
   ],
   "source": [
    "# Method 1\n",
    "a = np.random.random((2,3,5))\n",
    "print(a)"
   ]
  },
  {
   "cell_type": "code",
   "execution_count": 4,
   "metadata": {},
   "outputs": [
    {
     "name": "stdout",
     "output_type": "stream",
     "text": [
      "[[[-0.15299963 -1.23112631  1.45635632 -0.45108486  0.6085285 ]\n",
      "  [-1.27704928 -0.46181613  1.15181108 -0.818233   -0.30488263]\n",
      "  [ 0.17112504 -1.41254783 -0.48947685 -0.4011938  -0.45563008]]\n",
      "\n",
      " [[-1.22666975 -0.51133657 -1.80394895 -0.86905252 -0.16412864]\n",
      "  [-1.51869827 -0.79279828 -0.07134275 -0.23099629  0.22607896]\n",
      "  [-1.28791411  1.37653093  1.13339011 -1.06379511 -1.09880508]]]\n"
     ]
    }
   ],
   "source": [
    "# Method 2\n",
    "a = np.random.normal(0, 1, (2, 3,5))\n",
    "print(a)"
   ]
  },
  {
   "cell_type": "code",
   "execution_count": 5,
   "metadata": {},
   "outputs": [
    {
     "name": "stdout",
     "output_type": "stream",
     "text": [
      "[[[0.54292985 0.37845735 0.48490825 0.79860375 0.53958055]\n",
      "  [0.81766223 0.97900778 0.91586377 0.36545863 0.31356043]\n",
      "  [0.96081178 0.60974734 0.8467576  0.38116329 0.15761785]]\n",
      "\n",
      " [[0.62981903 0.54161796 0.06948954 0.0111607  0.87088463]\n",
      "  [0.93672249 0.84596256 0.07585182 0.77436875 0.30599509]\n",
      "  [0.56269808 0.79175948 0.2593903  0.35484589 0.61725983]]]\n"
     ]
    }
   ],
   "source": [
    "# Method 3\n",
    "a = np.random.rand(2,3,5)\n",
    "print(a)"
   ]
  },
  {
   "cell_type": "markdown",
   "metadata": {},
   "source": [
    "#### 4. Print *a*.\n"
   ]
  },
  {
   "cell_type": "code",
   "execution_count": 6,
   "metadata": {},
   "outputs": [
    {
     "name": "stdout",
     "output_type": "stream",
     "text": [
      "[[[0.54292985 0.37845735 0.48490825 0.79860375 0.53958055]\n",
      "  [0.81766223 0.97900778 0.91586377 0.36545863 0.31356043]\n",
      "  [0.96081178 0.60974734 0.8467576  0.38116329 0.15761785]]\n",
      "\n",
      " [[0.62981903 0.54161796 0.06948954 0.0111607  0.87088463]\n",
      "  [0.93672249 0.84596256 0.07585182 0.77436875 0.30599509]\n",
      "  [0.56269808 0.79175948 0.2593903  0.35484589 0.61725983]]]\n"
     ]
    }
   ],
   "source": [
    "# your code here\n",
    "print(a)"
   ]
  },
  {
   "cell_type": "markdown",
   "metadata": {},
   "source": [
    "#### 5. Create a 5x2x3 3-dimensional array with all values equaling 1. Assign the array to variable *b*."
   ]
  },
  {
   "cell_type": "code",
   "execution_count": 7,
   "metadata": {},
   "outputs": [],
   "source": [
    "# your code here\n",
    "b = np.ones((5,2,3))"
   ]
  },
  {
   "cell_type": "markdown",
   "metadata": {},
   "source": [
    "#### 6. Print *b*.\n"
   ]
  },
  {
   "cell_type": "code",
   "execution_count": 8,
   "metadata": {},
   "outputs": [
    {
     "name": "stdout",
     "output_type": "stream",
     "text": [
      "[[[1. 1. 1.]\n",
      "  [1. 1. 1.]]\n",
      "\n",
      " [[1. 1. 1.]\n",
      "  [1. 1. 1.]]\n",
      "\n",
      " [[1. 1. 1.]\n",
      "  [1. 1. 1.]]\n",
      "\n",
      " [[1. 1. 1.]\n",
      "  [1. 1. 1.]]\n",
      "\n",
      " [[1. 1. 1.]\n",
      "  [1. 1. 1.]]]\n"
     ]
    }
   ],
   "source": [
    "# your code here\n",
    "print(b)"
   ]
  },
  {
   "cell_type": "markdown",
   "metadata": {},
   "source": [
    "#### 7. Do *a* and *b* have the same size? How do you prove that in Python code?"
   ]
  },
  {
   "cell_type": "code",
   "execution_count": 9,
   "metadata": {},
   "outputs": [
    {
     "name": "stdout",
     "output_type": "stream",
     "text": [
      "a and b have the same size: True\n"
     ]
    }
   ],
   "source": [
    "# your code here\n",
    "print(\"a and b have the same size:\", a.size == b.size)"
   ]
  },
  {
   "cell_type": "markdown",
   "metadata": {},
   "source": [
    "#### 8. Are you able to add *a* and *b*? Why or why not?\n"
   ]
  },
  {
   "cell_type": "code",
   "execution_count": 10,
   "metadata": {},
   "outputs": [
    {
     "ename": "ValueError",
     "evalue": "operands could not be broadcast together with shapes (2,3,5) (5,2,3) ",
     "output_type": "error",
     "traceback": [
      "\u001b[0;31m---------------------------------------------------------------------------\u001b[0m",
      "\u001b[0;31mValueError\u001b[0m                                Traceback (most recent call last)",
      "\u001b[0;32m<ipython-input-10-c5c230192db0>\u001b[0m in \u001b[0;36m<module>\u001b[0;34m\u001b[0m\n\u001b[1;32m      1\u001b[0m \u001b[0;31m# your answer here\u001b[0m\u001b[0;34m\u001b[0m\u001b[0;34m\u001b[0m\u001b[0;34m\u001b[0m\u001b[0m\n\u001b[0;32m----> 2\u001b[0;31m \u001b[0madd_ab\u001b[0m \u001b[0;34m=\u001b[0m \u001b[0mnp\u001b[0m\u001b[0;34m.\u001b[0m\u001b[0madd\u001b[0m\u001b[0;34m(\u001b[0m\u001b[0ma\u001b[0m\u001b[0;34m,\u001b[0m\u001b[0mb\u001b[0m\u001b[0;34m)\u001b[0m\u001b[0;34m\u001b[0m\u001b[0;34m\u001b[0m\u001b[0m\n\u001b[0m\u001b[1;32m      3\u001b[0m \u001b[0mprint\u001b[0m\u001b[0;34m(\u001b[0m\u001b[0;34m\"No. Because shape of both arrays is different\"\u001b[0m\u001b[0;34m)\u001b[0m\u001b[0;34m\u001b[0m\u001b[0;34m\u001b[0m\u001b[0m\n",
      "\u001b[0;31mValueError\u001b[0m: operands could not be broadcast together with shapes (2,3,5) (5,2,3) "
     ]
    }
   ],
   "source": [
    "# your answer here\n",
    "add_ab = np.add(a,b)\n",
    "print(\"No. Because shape of both arrays is different\")"
   ]
  },
  {
   "cell_type": "markdown",
   "metadata": {},
   "source": [
    "#### 9. Transpose *b* so that it has the same structure of *a* (i.e. become a 2x3x5 array). Assign the transposed array to variable *c*."
   ]
  },
  {
   "cell_type": "code",
   "execution_count": 11,
   "metadata": {},
   "outputs": [
    {
     "name": "stdout",
     "output_type": "stream",
     "text": [
      "(2, 3, 5)\n"
     ]
    }
   ],
   "source": [
    "# your code here\n",
    "c = np.reshape(b,(2,3,5))\n",
    "print(c.shape)"
   ]
  },
  {
   "cell_type": "markdown",
   "metadata": {},
   "source": [
    "#### 10. Try to add *a* and *c*. Now it should work. Assign the sum to variable *d*. But why does it work now?"
   ]
  },
  {
   "cell_type": "code",
   "execution_count": 12,
   "metadata": {},
   "outputs": [
    {
     "name": "stdout",
     "output_type": "stream",
     "text": [
      "Now it works because a and c have the same shape\n",
      "[[[1.54292985 1.37845735 1.48490825 1.79860375 1.53958055]\n",
      "  [1.81766223 1.97900778 1.91586377 1.36545863 1.31356043]\n",
      "  [1.96081178 1.60974734 1.8467576  1.38116329 1.15761785]]\n",
      "\n",
      " [[1.62981903 1.54161796 1.06948954 1.0111607  1.87088463]\n",
      "  [1.93672249 1.84596256 1.07585182 1.77436875 1.30599509]\n",
      "  [1.56269808 1.79175948 1.2593903  1.35484589 1.61725983]]]\n"
     ]
    }
   ],
   "source": [
    "# your code/answer here\n",
    "d = np.add(a,c)\n",
    "print(\"Now it works because a and c have the same shape\")\n",
    "print(d)"
   ]
  },
  {
   "cell_type": "markdown",
   "metadata": {},
   "source": [
    "#### 11. Print *a* and *d*. Notice the difference and relation of the two array in terms of the values? Explain."
   ]
  },
  {
   "cell_type": "code",
   "execution_count": 13,
   "metadata": {},
   "outputs": [
    {
     "name": "stdout",
     "output_type": "stream",
     "text": [
      "[[[0.54292985 0.37845735 0.48490825 0.79860375 0.53958055]\n",
      "  [0.81766223 0.97900778 0.91586377 0.36545863 0.31356043]\n",
      "  [0.96081178 0.60974734 0.8467576  0.38116329 0.15761785]]\n",
      "\n",
      " [[0.62981903 0.54161796 0.06948954 0.0111607  0.87088463]\n",
      "  [0.93672249 0.84596256 0.07585182 0.77436875 0.30599509]\n",
      "  [0.56269808 0.79175948 0.2593903  0.35484589 0.61725983]]]\n",
      "[[[1.54292985 1.37845735 1.48490825 1.79860375 1.53958055]\n",
      "  [1.81766223 1.97900778 1.91586377 1.36545863 1.31356043]\n",
      "  [1.96081178 1.60974734 1.8467576  1.38116329 1.15761785]]\n",
      "\n",
      " [[1.62981903 1.54161796 1.06948954 1.0111607  1.87088463]\n",
      "  [1.93672249 1.84596256 1.07585182 1.77436875 1.30599509]\n",
      "  [1.56269808 1.79175948 1.2593903  1.35484589 1.61725983]]]\n",
      "All the values are summed. Value in position 0,0,0 in a is added to the value in the same position on array d\n"
     ]
    }
   ],
   "source": [
    "# your code/answer here\n",
    "print(a)\n",
    "print(d)\n",
    "print(\"All the values are summed. Value in position 0,0,0 in a is added to the value in the same position on array d\")"
   ]
  },
  {
   "cell_type": "markdown",
   "metadata": {},
   "source": [
    "#### 12. Multiply *a* and *c*. Assign the result to *e*."
   ]
  },
  {
   "cell_type": "code",
   "execution_count": 14,
   "metadata": {},
   "outputs": [
    {
     "name": "stdout",
     "output_type": "stream",
     "text": [
      "[[[0.54292985 0.37845735 0.48490825 0.79860375 0.53958055]\n",
      "  [0.81766223 0.97900778 0.91586377 0.36545863 0.31356043]\n",
      "  [0.96081178 0.60974734 0.8467576  0.38116329 0.15761785]]\n",
      "\n",
      " [[0.62981903 0.54161796 0.06948954 0.0111607  0.87088463]\n",
      "  [0.93672249 0.84596256 0.07585182 0.77436875 0.30599509]\n",
      "  [0.56269808 0.79175948 0.2593903  0.35484589 0.61725983]]]\n"
     ]
    }
   ],
   "source": [
    "# your code here\n",
    "e = np.multiply(a,c)\n",
    "print(e)"
   ]
  },
  {
   "cell_type": "markdown",
   "metadata": {},
   "source": [
    "#### 13. Does *e* equal to *a*? Why or why not?\n"
   ]
  },
  {
   "cell_type": "code",
   "execution_count": 15,
   "metadata": {},
   "outputs": [
    {
     "name": "stdout",
     "output_type": "stream",
     "text": [
      "[[[0.54292985 0.37845735 0.48490825 0.79860375 0.53958055]\n",
      "  [0.81766223 0.97900778 0.91586377 0.36545863 0.31356043]\n",
      "  [0.96081178 0.60974734 0.8467576  0.38116329 0.15761785]]\n",
      "\n",
      " [[0.62981903 0.54161796 0.06948954 0.0111607  0.87088463]\n",
      "  [0.93672249 0.84596256 0.07585182 0.77436875 0.30599509]\n",
      "  [0.56269808 0.79175948 0.2593903  0.35484589 0.61725983]]]\n",
      "[[[0.54292985 0.37845735 0.48490825 0.79860375 0.53958055]\n",
      "  [0.81766223 0.97900778 0.91586377 0.36545863 0.31356043]\n",
      "  [0.96081178 0.60974734 0.8467576  0.38116329 0.15761785]]\n",
      "\n",
      " [[0.62981903 0.54161796 0.06948954 0.0111607  0.87088463]\n",
      "  [0.93672249 0.84596256 0.07585182 0.77436875 0.30599509]\n",
      "  [0.56269808 0.79175948 0.2593903  0.35484589 0.61725983]]]\n",
      "They are both equal, because all the values of array c are 1, and since they are being multiplied by the element in the same postion (on array a) it will generate the same result\n"
     ]
    }
   ],
   "source": [
    "# your code/answer here\n",
    "print(e)\n",
    "print(a)\n",
    "print(\"They are both equal, because all the values of array c are 1, and since they are being multiplied by the element in the same postion (on array a) it will generate the same result\")"
   ]
  },
  {
   "cell_type": "markdown",
   "metadata": {},
   "source": [
    "#### 14. Identify the max, min, and mean values in *d*. Assign those values to variables *d_max*, *d_min* and *d_mean*."
   ]
  },
  {
   "cell_type": "code",
   "execution_count": 16,
   "metadata": {},
   "outputs": [
    {
     "name": "stdout",
     "output_type": "stream",
     "text": [
      "Max: 1.9790077750359956\n",
      "Min: 1.0111607038816515\n",
      "Mean: 1.5579985539377081\n"
     ]
    }
   ],
   "source": [
    "# your code here\n",
    "d_max = np.max(d)\n",
    "d_min = np.min(d)\n",
    "d_mean = np.mean(d)\n",
    "print(\"Max:\",d_max)\n",
    "print(\"Min:\",d_min)\n",
    "print(\"Mean:\",d_mean)"
   ]
  },
  {
   "cell_type": "markdown",
   "metadata": {},
   "source": [
    "#### 15. Now we want to label the values in *d*. First create an empty array *f* with the same shape (i.e. 2x3x5) as *d* using `np.empty`.\n"
   ]
  },
  {
   "cell_type": "code",
   "execution_count": 17,
   "metadata": {},
   "outputs": [
    {
     "name": "stdout",
     "output_type": "stream",
     "text": [
      "[[[0.54292985 0.37845735 0.48490825 0.79860375 0.53958055]\n",
      "  [0.81766223 0.97900778 0.91586377 0.36545863 0.31356043]\n",
      "  [0.96081178 0.60974734 0.8467576  0.38116329 0.15761785]]\n",
      "\n",
      " [[0.62981903 0.54161796 0.06948954 0.0111607  0.87088463]\n",
      "  [0.93672249 0.84596256 0.07585182 0.77436875 0.30599509]\n",
      "  [0.56269808 0.79175948 0.2593903  0.35484589 0.61725983]]]\n"
     ]
    }
   ],
   "source": [
    "# your code here\n",
    "f = np.empty((2,3,5))\n",
    "print(f)"
   ]
  },
  {
   "cell_type": "markdown",
   "metadata": {},
   "source": [
    "#### 16. Populate the values in *f*. \n",
    "\n",
    "For each value in *d*, if it's larger than *d_min* but smaller than *d_mean*, assign 25 to the corresponding value in *f*. If a value in *d* is larger than *d_mean* but smaller than *d_max*, assign 75 to the corresponding value in *f*. If a value equals to *d_mean*, assign 50 to the corresponding value in *f*. Assign 0 to the corresponding value(s) in *f* for *d_min* in *d*. Assign 100 to the corresponding value(s) in *f* for *d_max* in *d*. In the end, f should have only the following values: 0, 25, 50, 75, and 100.\n",
    "\n",
    "**Note**: you don't have to use Numpy in this question."
   ]
  },
  {
   "cell_type": "code",
   "execution_count": 18,
   "metadata": {},
   "outputs": [
    {
     "name": "stdout",
     "output_type": "stream",
     "text": [
      "[[[0.54292985 0.37845735 0.48490825 0.79860375 0.53958055]\n",
      "  [0.81766223 0.97900778 0.91586377 0.36545863 0.31356043]\n",
      "  [0.96081178 0.60974734 0.8467576  0.38116329 0.15761785]]\n",
      "\n",
      " [[0.62981903 0.54161796 0.06948954 0.0111607  0.87088463]\n",
      "  [0.93672249 0.84596256 0.07585182 0.77436875 0.30599509]\n",
      "  [0.56269808 0.79175948 0.2593903  0.35484589 0.61725983]]]\n",
      "[[[ 25.  25.  25.  75.  25.]\n",
      "  [ 75. 100.  75.  25.  25.]\n",
      "  [ 75.  75.  75.  25.  25.]]\n",
      "\n",
      " [[ 75.  25.  25.   0.  75.]\n",
      "  [ 75.  75.  25.  75.  25.]\n",
      "  [ 75.  75.  25.  25.  75.]]]\n"
     ]
    }
   ],
   "source": [
    "# your code here\n",
    "#\n",
    "# Without numpy\n",
    "#\n",
    "# group_position = row_position = v_position = 0\n",
    "# for group in d:\n",
    "#     row_position = 0\n",
    "#     for row in group:\n",
    "#         v_position = 0\n",
    "#         for v in row:\n",
    "#             if v > d_min and v < d_mean:\n",
    "#                 new_value = 25\n",
    "#             if v > d_mean and v < d_max:\n",
    "#                 new_value = 75\n",
    "#             if v == d_mean:\n",
    "#                 new_value = 50\n",
    "#             if v == d_min:\n",
    "#                 new_value = 0\n",
    "#             f[group_position,row_position,v_position] = new_value\n",
    "#             v_position += 1\n",
    "#         row_position += 1\n",
    "#     group_position +=  1\n",
    "#\n",
    "# With numpy\n",
    "#\n",
    "print(f)\n",
    "f[(d > d_min) & (d < d_mean)] = 25\n",
    "f[(d>d_mean) & (d<d_max)] = 75\n",
    "f[(d == d_mean)] = 50\n",
    "f[(d == d_min)] = 0\n",
    "f[(d == d_max)] = 100\n",
    "print(f)"
   ]
  },
  {
   "cell_type": "markdown",
   "metadata": {},
   "source": [
    "#### 17. Print *d* and *f*. Do you have your expected *f*?\n",
    "For instance, if your *d* is:\n",
    "```python\n",
    "[[[1.85836099, 1.67064465, 1.62576044, 1.40243961, 1.88454931],\n",
    "[1.75354326, 1.69403643, 1.36729252, 1.61415071, 1.12104981],\n",
    "[1.72201435, 1.1862918 , 1.87078449, 1.7726778 , 1.88180042]],\n",
    "[[1.44747908, 1.31673383, 1.02000951, 1.52218947, 1.97066381],\n",
    "[1.79129243, 1.74983003, 1.96028037, 1.85166831, 1.65450881],\n",
    "[1.18068344, 1.9587381 , 1.00656599, 1.93402165, 1.73514584]]]\n",
    "```\n",
    "Your *f* should be:\n",
    "```python\n",
    "[[[ 75.,  75.,  75.,  25.,  75.],\n",
    "[ 75.,  75.,  25.,  25.,  25.],\n",
    "[ 75.,  25.,  75.,  75.,  75.]],\n",
    "[[ 25.,  25.,  25.,  25., 100.],\n",
    "[ 75.,  75.,  75.,  75.,  75.],\n",
    "[ 25.,  75.,   0.,  75.,  75.]]]\n",
    "```"
   ]
  },
  {
   "cell_type": "code",
   "execution_count": 19,
   "metadata": {},
   "outputs": [
    {
     "name": "stdout",
     "output_type": "stream",
     "text": [
      "[[[1.54292985 1.37845735 1.48490825 1.79860375 1.53958055]\n",
      "  [1.81766223 1.97900778 1.91586377 1.36545863 1.31356043]\n",
      "  [1.96081178 1.60974734 1.8467576  1.38116329 1.15761785]]\n",
      "\n",
      " [[1.62981903 1.54161796 1.06948954 1.0111607  1.87088463]\n",
      "  [1.93672249 1.84596256 1.07585182 1.77436875 1.30599509]\n",
      "  [1.56269808 1.79175948 1.2593903  1.35484589 1.61725983]]]\n",
      "[[[ 25.  25.  25.  75.  25.]\n",
      "  [ 75. 100.  75.  25.  25.]\n",
      "  [ 75.  75.  75.  25.  25.]]\n",
      "\n",
      " [[ 75.  25.  25.   0.  75.]\n",
      "  [ 75.  75.  25.  75.  25.]\n",
      "  [ 75.  75.  25.  25.  75.]]]\n"
     ]
    }
   ],
   "source": [
    "# your code here\n",
    "print(d)\n",
    "print(f)"
   ]
  },
  {
   "cell_type": "markdown",
   "metadata": {},
   "source": [
    "#### 18. Bonus question: instead of using numbers (i.e. 0, 25, 50, 75, and 100), use string values  (\"A\", \"B\", \"C\", \"D\", and \"E\") to label the array elements. For the example above, the expected result is:\n",
    "\n",
    "```python\n",
    "[[[ 'D',  'D',  'D',  'B',  'D'],\n",
    "[ 'D',  'D',  'B',  'B',  'B'],\n",
    "[ 'D',  'B',  'D',  'D',  'D']],\n",
    "[[ 'B',  'B',  'B',  'B',  'E'],\n",
    "[ 'D',  'D',  'D',  'D',  'D'],\n",
    "[ 'B',  'D',   'A',  'D', 'D']]]\n",
    "```\n",
    "**Note**: you don't have to use Numpy in this question."
   ]
  },
  {
   "cell_type": "code",
   "execution_count": 21,
   "metadata": {},
   "outputs": [],
   "source": [
    "# your code here\n",
    "f = np.array(f, dtype = 'object')\n",
    "f[f == 0] = 'A'\n",
    "f[f == 25] = 'B'\n",
    "f[f == 50] = 'C'\n",
    "f[f == 75] = 'D'\n",
    "f[f == 100] = 'E'"
   ]
  },
  {
   "cell_type": "code",
   "execution_count": 22,
   "metadata": {},
   "outputs": [
    {
     "name": "stdout",
     "output_type": "stream",
     "text": [
      "[[['25.0' '25.0' '25.0' '75.0' '25.0']\n",
      "  ['75.0' '100.0' '75.0' '25.0' '25.0']\n",
      "  ['75.0' '75.0' '75.0' '25.0' '25.0']]\n",
      "\n",
      " [['75.0' '25.0' '25.0' '0.0' '75.0']\n",
      "  ['75.0' '75.0' '25.0' '75.0' '25.0']\n",
      "  ['75.0' '75.0' '25.0' '25.0' '75.0']]]\n"
     ]
    }
   ],
   "source": [
    "print(f)"
   ]
  }
 ],
 "metadata": {
  "kernelspec": {
   "display_name": "Python 3",
   "language": "python",
   "name": "python3"
  },
  "language_info": {
   "codemirror_mode": {
    "name": "ipython",
    "version": 3
   },
   "file_extension": ".py",
   "mimetype": "text/x-python",
   "name": "python",
   "nbconvert_exporter": "python",
   "pygments_lexer": "ipython3",
   "version": "3.7.3"
  }
 },
 "nbformat": 4,
 "nbformat_minor": 2
}
